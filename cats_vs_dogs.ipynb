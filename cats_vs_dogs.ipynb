{
 "cells": [
  {
   "cell_type": "code",
   "execution_count": null,
   "id": "ecbf4561",
   "metadata": {},
   "outputs": [],
   "source": [
    "import os, cv2, random\n",
    "import numpy as np\n",
    "import pandas as pd\n",
    "import seaborn as sns\n",
    "import matplotlib.pyplot as plt\n",
    "from sklearn.model_selection import train_test_split\n",
    "from sklearn.metrics import classification_report\n",
    "from tqdm import tqdm\n",
    "from random import shuffle \n",
    "from IPython.display import SVG\n",
    "from keras.utils.vis_utils import model_to_dot\n",
    "from keras.utils import plot_model\n",
    "from tensorflow.python.keras.applications import ResNet50\n",
    "from tensorflow.python.keras.models import Sequential\n",
    "from tensorflow.python.keras.layers import Dense, Flatten, GlobalAveragePooling2D\n",
    "%matplotlib inline "
   ]
  },
  {
   "cell_type": "code",
   "execution_count": 4,
   "id": "2413d079",
   "metadata": {},
   "outputs": [],
   "source": [
    "TEST_SIZE = 0.5\n",
    "RANDOM_STATE = 2018\n",
    "BATCH_SIZE = 64\n",
    "NO_EPOCHS = 20\n",
    "NUM_CLASSES = 2\n",
    "SAMPLE_SIZE = 20000\n",
    "TRAIN_FOLDER = './train/'\n",
    "IMG_SIZE = 224\n",
    "PATH = '/kaggle/input/dogs-vs-cats-redux-kernels-edition/'"
   ]
  },
  {
   "cell_type": "code",
   "execution_count": 7,
   "id": "3409beba",
   "metadata": {},
   "outputs": [],
   "source": [
    "train_image_path = os.path.join(PATH, \"training.zip\")"
   ]
  },
  {
   "cell_type": "code",
   "execution_count": null,
   "id": "34538bca",
   "metadata": {},
   "outputs": [],
   "source": [
    "import zipfile\n",
    "with zipfile.ZipFile(train_image_path,\"r\") as z:\n",
    "    z.extractall(\".\")"
   ]
  },
  {
   "cell_type": "code",
   "execution_count": null,
   "id": "291b5a61",
   "metadata": {},
   "outputs": [],
   "source": [
    "with zipfile.ZipFile(test_image_path,\"r\") as z:\n",
    "    z.extractall(\".\")"
   ]
  },
  {
   "cell_type": "code",
   "execution_count": null,
   "id": "47295f8a",
   "metadata": {},
   "outputs": [],
   "source": [
    "def label_pet_image_one_hot_encoder(img):\n",
    "    pet = img.split('.')[-3]\n",
    "    if pet == 'cat': return [1,0]\n",
    "    elif pet == 'dog': return [0,1]"
   ]
  },
  {
   "cell_type": "code",
   "execution_count": null,
   "id": "0f6d281c",
   "metadata": {},
   "outputs": [],
   "source": [
    "def process_data(data_image_list, DATA_FOLDER, isTrain=True):\n",
    "    data_df = []\n",
    "    for img in tqdm(data_image_list):\n",
    "        path = os.path.join(DATA_FOLDER,img)\n",
    "        if(isTrain):\n",
    "            label = label_pet_image_one_hot_encoder(img)\n",
    "        else:\n",
    "            label = img.split('.')[0]\n",
    "        img = cv2.imread(path,cv2.IMREAD_COLOR)\n",
    "        img = cv2.resize(img, (IMG_SIZE,IMG_SIZE))\n",
    "        data_df.append([np.array(img),np.array(label)])\n",
    "    shuffle(data_df)\n",
    "    return data_df"
   ]
  },
  {
   "cell_type": "code",
   "execution_count": null,
   "id": "d08bf6cd",
   "metadata": {},
   "outputs": [],
   "source": [
    "def plot_image_list_count(data_image_list):\n",
    "    labels = []\n",
    "    for img in data_image_list:\n",
    "        labels.append(img.split('.')[-3])\n",
    "    sns.countplot(labels)\n",
    "    plt.title('Cats and Dogs')\n",
    "    \n",
    "plot_image_list_count(train_image_list)"
   ]
  },
  {
   "cell_type": "code",
   "execution_count": null,
   "id": "242f2c76",
   "metadata": {},
   "outputs": [],
   "source": [
    "plot_image_list_count(os.listdir(TRAIN_FOLDER))"
   ]
  },
  {
   "cell_type": "code",
   "execution_count": null,
   "id": "f635e036",
   "metadata": {},
   "outputs": [],
   "source": [
    "train = process_data(train_image_list, TRAIN_FOLDER)"
   ]
  },
  {
   "cell_type": "code",
   "execution_count": null,
   "id": "11affa63",
   "metadata": {},
   "outputs": [],
   "source": [
    "def show_images(data, isTest=False):\n",
    "    f, ax = plt.subplots(5,5, figsize=(15,15))\n",
    "    for i,data in enumerate(data[:25]):\n",
    "        img_num = data[1]\n",
    "        img_data = data[0]\n",
    "        label = np.argmax(img_num)\n",
    "        if label  == 1: \n",
    "            str_label='Dog'\n",
    "        elif label == 0: \n",
    "            str_label='Cat'\n",
    "        if(isTest):\n",
    "            str_label=\"None\"\n",
    "        ax[i//5, i%5].imshow(img_data)\n",
    "        ax[i//5, i%5].axis('off')\n",
    "        ax[i//5, i%5].set_title(\"Label: {}\".format(str_label))\n",
    "    plt.show()\n",
    "\n",
    "show_images(train)"
   ]
  },
  {
   "cell_type": "code",
   "execution_count": null,
   "id": "c000a783",
   "metadata": {},
   "outputs": [],
   "source": [
    "test = process_data(test_image_list, TEST_FOLDER, False)"
   ]
  },
  {
   "cell_type": "code",
   "execution_count": null,
   "id": "ffd53169",
   "metadata": {},
   "outputs": [],
   "source": [
    "show_images(test,True)"
   ]
  },
  {
   "cell_type": "code",
   "execution_count": null,
   "id": "fb01ec23",
   "metadata": {},
   "outputs": [],
   "source": [
    "X = np.array([i[0] for i in train]).reshape(-1,IMG_SIZE,IMG_SIZE,3)\n",
    "y = np.array([i[1] for i in train])"
   ]
  },
  {
   "cell_type": "code",
   "execution_count": null,
   "id": "71d19134",
   "metadata": {},
   "outputs": [],
   "source": [
    "model = Sequential()\n",
    "model.add(ResNet50(include_top=False, pooling='max', weights=RESNET_WEIGHTS_PATH))\n",
    "model.add(Dense(NUM_CLASSES, activation='softmax'))\n",
    "# ResNet-50 model is already trained, should not be trained\n",
    "model.layers[0].trainable = True"
   ]
  },
  {
   "cell_type": "code",
   "execution_count": null,
   "id": "cd688235",
   "metadata": {},
   "outputs": [],
   "source": [
    "model.compile(optimizer='sgd', loss='categorical_crossentropy', metrics=['accuracy'])"
   ]
  },
  {
   "cell_type": "code",
   "execution_count": null,
   "id": "41d1763d",
   "metadata": {},
   "outputs": [],
   "source": [
    "model.summary()"
   ]
  },
  {
   "cell_type": "code",
   "execution_count": null,
   "id": "a6fdcd67",
   "metadata": {},
   "outputs": [],
   "source": [
    "plot_model(model, to_file='model.png')\n",
    "SVG(model_to_dot(model).create(prog='dot', format='svg'))"
   ]
  },
  {
   "cell_type": "code",
   "execution_count": null,
   "id": "ee03f770",
   "metadata": {},
   "outputs": [],
   "source": [
    "X_train, X_val, y_train, y_val = train_test_split(X, y, test_size=TEST_SIZE, random_state=RANDOM_STATE)"
   ]
  },
  {
   "cell_type": "code",
   "execution_count": null,
   "id": "7a3b651c",
   "metadata": {},
   "outputs": [],
   "source": [
    "train_model = model.fit(X_train, y_train,\n",
    "                  batch_size=BATCH_SIZE,\n",
    "                  epochs=NO_EPOCHS,\n",
    "                  verbose=1,\n",
    "                  validation_data=(X_val, y_val))"
   ]
  },
  {
   "cell_type": "code",
   "execution_count": null,
   "id": "0eeeb001",
   "metadata": {},
   "outputs": [],
   "source": [
    "def plot_accuracy_and_loss(train_model):\n",
    "    hist = train_model.history\n",
    "    acc = hist['acc']\n",
    "    val_acc = hist['val_acc']\n",
    "    loss = hist['loss']\n",
    "    val_loss = hist['val_loss']\n",
    "    epochs = range(len(acc))\n",
    "    f, ax = plt.subplots(1,2, figsize=(14,6))\n",
    "    ax[0].plot(epochs, acc, 'g', label='Training accuracy')\n",
    "    ax[0].plot(epochs, val_acc, 'r', label='Validation accuracy')\n",
    "    ax[0].set_title('Training and validation accuracy')\n",
    "    ax[0].legend()\n",
    "    ax[1].plot(epochs, loss, 'g', label='Training loss')\n",
    "    ax[1].plot(epochs, val_loss, 'r', label='Validation loss')\n",
    "    ax[1].set_title('Training and validation loss')\n",
    "    ax[1].legend()\n",
    "    plt.show()\n",
    "plot_accuracy_and_loss(train_model)"
   ]
  }
 ],
 "metadata": {
  "kernelspec": {
   "display_name": "Python 3 (ipykernel)",
   "language": "python",
   "name": "python3"
  },
  "language_info": {
   "codemirror_mode": {
    "name": "ipython",
    "version": 3
   },
   "file_extension": ".py",
   "mimetype": "text/x-python",
   "name": "python",
   "nbconvert_exporter": "python",
   "pygments_lexer": "ipython3",
   "version": "3.10.6"
  }
 },
 "nbformat": 4,
 "nbformat_minor": 5
}
